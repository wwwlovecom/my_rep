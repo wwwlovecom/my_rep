{
  "nbformat": 4,
  "nbformat_minor": 0,
  "metadata": {
    "colab": {
      "provenance": [],
      "authorship_tag": "ABX9TyPo5+22umfm8CyshzU/qtRZ",
      "include_colab_link": true
    },
    "kernelspec": {
      "name": "python3",
      "display_name": "Python 3"
    },
    "language_info": {
      "name": "python"
    }
  },
  "cells": [
    {
      "cell_type": "markdown",
      "metadata": {
        "id": "view-in-github",
        "colab_type": "text"
      },
      "source": [
        "<a href=\"https://colab.research.google.com/github/wwwlovecom/my_rep/blob/main/%D0%9B%D0%B0%D0%B1%D0%BE%D1%80%D0%B0%D1%82%D0%BE%D1%80%D0%BD%D0%B0_%D1%80%D0%BE%D0%B1%D0%BE%D1%82%D0%B0_1.ipynb\" target=\"_parent\"><img src=\"https://colab.research.google.com/assets/colab-badge.svg\" alt=\"Open In Colab\"/></a>"
      ]
    },
    {
      "cell_type": "markdown",
      "source": [
        "1. Створіть одновимірний масив (вектор) з першими 20-ма натуральними числами та виведіть його значення."
      ],
      "metadata": {
        "id": "V2MNhnRWZXBr"
      }
    },
    {
      "cell_type": "code",
      "source": [
        "import numpy as np\n",
        "\n",
        "array1 = np.arange(1, 21)\n",
        "print(array1)"
      ],
      "metadata": {
        "colab": {
          "base_uri": "https://localhost:8080/"
        },
        "id": "Z-8GtOOPZZkS",
        "outputId": "a5b5a8d1-2719-4942-e50d-d8bbff013122"
      },
      "execution_count": null,
      "outputs": [
        {
          "output_type": "stream",
          "name": "stdout",
          "text": [
            "[ 1  2  3  4  5  6  7  8  9 10 11 12 13 14 15 16 17 18 19 20]\n"
          ]
        }
      ]
    },
    {
      "cell_type": "markdown",
      "source": [
        "2. Створіть двовимірний масив (матрицю) розміром 4x4, заповніть його одиницями та виведіть його значення."
      ],
      "metadata": {
        "id": "A9Z0lf_SZ6Ll"
      }
    },
    {
      "cell_type": "code",
      "source": [
        "matrix2 = np.ones((4, 4))\n",
        "print(matrix2)"
      ],
      "metadata": {
        "colab": {
          "base_uri": "https://localhost:8080/"
        },
        "id": "8Ntkax1hZ-hv",
        "outputId": "90f83a5a-1310-4cb0-d325-2ac9bd25687d"
      },
      "execution_count": null,
      "outputs": [
        {
          "output_type": "stream",
          "name": "stdout",
          "text": [
            "[[1. 1. 1. 1.]\n",
            " [1. 1. 1. 1.]\n",
            " [1. 1. 1. 1.]\n",
            " [1. 1. 1. 1.]]\n"
          ]
        }
      ]
    },
    {
      "cell_type": "markdown",
      "source": [
        "3. Створіть масив розміром 5x5, заповніть його випадковими дійсними числами в діапазоні від -1 до 1 та виведіть його значення."
      ],
      "metadata": {
        "id": "26S3mvT_aOTr"
      }
    },
    {
      "cell_type": "code",
      "source": [
        "array3 = np.random.uniform(-1, 1, (5, 5))\n",
        "print(array3)"
      ],
      "metadata": {
        "colab": {
          "base_uri": "https://localhost:8080/"
        },
        "id": "8aI0zj6iaSYf",
        "outputId": "ce50963b-e64e-45cc-e8e6-84d8a3104121"
      },
      "execution_count": null,
      "outputs": [
        {
          "output_type": "stream",
          "name": "stdout",
          "text": [
            "[[ 0.71882512  0.79315316  0.86907349  0.47051927 -0.6198181 ]\n",
            " [-0.50281996 -0.56923541 -0.80260404  0.74538994 -0.60687343]\n",
            " [-0.28216092  0.76082794 -0.582468    0.65225839  0.15863751]\n",
            " [ 0.19562466 -0.55446835 -0.35224999  0.18816082  0.6121251 ]\n",
            " [-0.15332635  0.59647867  0.50259107  0.2726243  -0.92668215]]\n"
          ]
        }
      ]
    },
    {
      "cell_type": "markdown",
      "source": [
        "4. Створіть масив розміром 3x3, заповніть його випадковими дійсними числами в діапазоні від 0 до 1 та виведіть його значення."
      ],
      "metadata": {
        "id": "fhjinUheaf9o"
      }
    },
    {
      "cell_type": "code",
      "source": [
        "array4 = np.random.rand(3, 3)\n",
        "print(array4)"
      ],
      "metadata": {
        "colab": {
          "base_uri": "https://localhost:8080/"
        },
        "id": "sMeE4KeXajT7",
        "outputId": "8b291048-78f8-4920-c895-e202de5ce12d"
      },
      "execution_count": null,
      "outputs": [
        {
          "output_type": "stream",
          "name": "stdout",
          "text": [
            "[[0.10851733 0.46743587 0.10654309]\n",
            " [0.83492219 0.34506576 0.19671356]\n",
            " [0.22815102 0.22888758 0.24788789]]\n"
          ]
        }
      ]
    },
    {
      "cell_type": "markdown",
      "source": [
        "5. Створіть два одновимірних масиви розміром 6, заповніть їх випадковими цілими числами в діапазоні від 1 до 20 та виконайте на них поелементні операції додавання, віднімання та множення."
      ],
      "metadata": {
        "id": "hNQ5bXrMat26"
      }
    },
    {
      "cell_type": "code",
      "source": [
        "a5 = np.random.randint(1, 21, size=6)\n",
        "b5 = np.random.randint(1, 21, size=6)\n",
        "\n",
        "suma5 = a5 + b5\n",
        "riz5 = a5 - b5\n",
        "mnoz5 = a5 * b5\n",
        "\n",
        "print(\"Масив a:\", a5)\n",
        "print(\"Масив b:\", b5)\n",
        "print(\"Сума:\", suma5)\n",
        "print(\"Різниця:\", riz5)\n",
        "print(\"Множення:\", mnoz5)"
      ],
      "metadata": {
        "colab": {
          "base_uri": "https://localhost:8080/"
        },
        "id": "rCNyiBHTayQY",
        "outputId": "d43cea46-7c64-4250-9c48-c3124388d9e2"
      },
      "execution_count": null,
      "outputs": [
        {
          "output_type": "stream",
          "name": "stdout",
          "text": [
            "Масив a: [ 8 10 15  1 10 19]\n",
            "Масив b: [13  2  4 12 10 10]\n",
            "Сума: [21 12 19 13 20 29]\n",
            "Різниця: [ -5   8  11 -11   0   9]\n",
            "Множення: [104  20  60  12 100 190]\n"
          ]
        }
      ]
    },
    {
      "cell_type": "markdown",
      "source": [
        "6. Створіть дві матриці розміром 3x2 та 2x4, заповніть їх випадковими цілими числами в діапазоні від 1 до 5 та перемножте їх між собою."
      ],
      "metadata": {
        "id": "3GoaZnXtbC_H"
      }
    },
    {
      "cell_type": "code",
      "source": [
        "A6 = np.random.randint(1, 6, size=(3, 2))\n",
        "B6 = np.random.randint(1, 6, size=(2, 4))\n",
        "\n",
        "mnoz6 = np.dot(A6, B6)\n",
        "\n",
        "print(\"Матриця A (3x2):\")\n",
        "print(A6)\n",
        "print(\"\\nМатриця B (2x4):\")\n",
        "print(B6)\n",
        "print(\"\\nРезультат множення:\")\n",
        "print(mnoz6)"
      ],
      "metadata": {
        "colab": {
          "base_uri": "https://localhost:8080/"
        },
        "id": "liS0zCtdbFqz",
        "outputId": "025524da-a54c-4486-9c52-ab505d64bfca"
      },
      "execution_count": null,
      "outputs": [
        {
          "output_type": "stream",
          "name": "stdout",
          "text": [
            "Матриця A (3x2):\n",
            "[[2 1]\n",
            " [2 2]\n",
            " [2 4]]\n",
            "\n",
            "Матриця B (2x4):\n",
            "[[5 4 3 1]\n",
            " [1 3 4 2]]\n",
            "\n",
            "Результат множення:\n",
            "[[11 11 10  4]\n",
            " [12 14 14  6]\n",
            " [14 20 22 10]]\n"
          ]
        }
      ]
    },
    {
      "cell_type": "markdown",
      "source": [
        "7. Створіть матрицю розміром 3x3, заповніть її випадковими дійсними числами в діапазоні від 0 до 1 та транспонуйте її."
      ],
      "metadata": {
        "id": "bZ1fVswdckx3"
      }
    },
    {
      "cell_type": "code",
      "source": [
        "matrix7 = np.random.rand(3, 3)\n",
        "\n",
        "transp = matrix7.T\n",
        "\n",
        "print(\"Оригінальна матриця:\")\n",
        "print(matrix7)\n",
        "\n",
        "print(\"\\nТранспонована матриця:\")\n",
        "print(transp)"
      ],
      "metadata": {
        "colab": {
          "base_uri": "https://localhost:8080/"
        },
        "id": "qu1QKdRIcrig",
        "outputId": "50e73903-8702-4d54-fe84-13eb506bcb77"
      },
      "execution_count": null,
      "outputs": [
        {
          "output_type": "stream",
          "name": "stdout",
          "text": [
            "Оригінальна матриця:\n",
            "[[0.34140325 0.90312698 0.64244765]\n",
            " [0.60498046 0.24035893 0.90243525]\n",
            " [0.04032403 0.26667812 0.25571097]]\n",
            "\n",
            "Транспонована матриця:\n",
            "[[0.34140325 0.60498046 0.04032403]\n",
            " [0.90312698 0.24035893 0.26667812]\n",
            " [0.64244765 0.90243525 0.25571097]]\n"
          ]
        }
      ]
    },
    {
      "cell_type": "markdown",
      "source": [
        "8. Створіть дві матриці розміром 3x3, заповніть їх випадковими цілими числами в діапазоні від 1 до 10 та знайдіть їхню різницю."
      ],
      "metadata": {
        "id": "Kkz9_K1ucwtu"
      }
    },
    {
      "cell_type": "code",
      "source": [
        "A8 = np.random.randint(1, 11, size=(3, 3))\n",
        "B8 = np.random.randint(1, 11, size=(3, 3))\n",
        "\n",
        "riz8 = A8 - B8\n",
        "\n",
        "print(\"Матриця A:\")\n",
        "print(A8)\n",
        "\n",
        "print(\"\\nМатриця B:\")\n",
        "print(B8)\n",
        "\n",
        "print(\"\\nРізниця:\")\n",
        "print(riz8)"
      ],
      "metadata": {
        "colab": {
          "base_uri": "https://localhost:8080/"
        },
        "id": "wAsVQFymczhQ",
        "outputId": "25de8d20-5d3b-469e-a147-9e67873a472a"
      },
      "execution_count": null,
      "outputs": [
        {
          "output_type": "stream",
          "name": "stdout",
          "text": [
            "Матриця A:\n",
            "[[ 3  4  6]\n",
            " [ 6 10  8]\n",
            " [ 1  5  1]]\n",
            "\n",
            "Матриця B:\n",
            "[[ 8  1 10]\n",
            " [ 4  8  6]\n",
            " [ 3  9 10]]\n",
            "\n",
            "Різниця:\n",
            "[[-5  3 -4]\n",
            " [ 2  2  2]\n",
            " [-2 -4 -9]]\n"
          ]
        }
      ]
    },
    {
      "cell_type": "markdown",
      "source": [
        "9. Створіть дві матриці розміром 3x3, заповніть їх випадковими цілими числами в діапазоні від -5 до 5 та знайдіть їх добуток."
      ],
      "metadata": {
        "id": "lGmFZVGndAE9"
      }
    },
    {
      "cell_type": "code",
      "source": [
        "A9 = np.random.randint(-5, 6, size=(3, 3))\n",
        "B9 = np.random.randint(-5, 6, size=(3, 3))\n",
        "\n",
        "mnoz9 = np.dot(A9, B9)\n",
        "\n",
        "print(\"Матриця A:\")\n",
        "print(A9)\n",
        "\n",
        "print(\"\\nМатриця B:\")\n",
        "print(B9)\n",
        "\n",
        "print(\"\\nДобуток:\")\n",
        "print(mnoz9)"
      ],
      "metadata": {
        "colab": {
          "base_uri": "https://localhost:8080/"
        },
        "id": "dqGP9CuWdCYe",
        "outputId": "aea02aac-da06-474c-9542-7a7bbb81eedc"
      },
      "execution_count": null,
      "outputs": [
        {
          "output_type": "stream",
          "name": "stdout",
          "text": [
            "Матриця A:\n",
            "[[ 1  4 -2]\n",
            " [-5 -5  5]\n",
            " [-1  1  0]]\n",
            "\n",
            "Матриця B:\n",
            "[[ 0 -2 -2]\n",
            " [-5  0  4]\n",
            " [ 3  5  3]]\n",
            "\n",
            "Добуток:\n",
            "[[-26 -12   8]\n",
            " [ 40  35   5]\n",
            " [ -5   2   6]]\n"
          ]
        }
      ]
    },
    {
      "cell_type": "markdown",
      "source": [
        "10. Створіть матрицю розміром 3x3, заповніть її випадковими дійсними числами в діапазоні від -1 до 1 та знайдіть вектор-стовпчик, що містить суму елементів кожного рядка матриці."
      ],
      "metadata": {
        "id": "OA0DYQOPdbG1"
      }
    },
    {
      "cell_type": "code",
      "source": [
        "matrix10 = np.random.uniform(-1, 1, size=(3, 3))\n",
        "\n",
        "suma10 = np.sum(matrix10, axis=1).reshape(-1, 1)\n",
        "\n",
        "print(\"Матриця:\")\n",
        "print(matrix10)\n",
        "\n",
        "print(\"\\nСума рядків:\")\n",
        "print(suma10)"
      ],
      "metadata": {
        "colab": {
          "base_uri": "https://localhost:8080/"
        },
        "id": "CXYT3V3CdeNF",
        "outputId": "d63f9d19-6281-40fa-a801-ab5c66ad7065"
      },
      "execution_count": null,
      "outputs": [
        {
          "output_type": "stream",
          "name": "stdout",
          "text": [
            "Матриця:\n",
            "[[-0.08229254  0.88862098 -0.76043766]\n",
            " [-0.00809137 -0.67246692  0.58668584]\n",
            " [-0.87448592  0.12177198  0.88492726]]\n",
            "\n",
            "Сума рядків:\n",
            "[[ 0.04589078]\n",
            " [-0.09387245]\n",
            " [ 0.13221332]]\n"
          ]
        }
      ]
    },
    {
      "cell_type": "markdown",
      "source": [
        "Посилання на gitHub: https://github.com/wwwlovecom/my_rep"
      ],
      "metadata": {
        "id": "46hlArtSgchh"
      }
    }
  ]
}