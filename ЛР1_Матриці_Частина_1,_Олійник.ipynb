{
  "nbformat": 4,
  "nbformat_minor": 0,
  "metadata": {
    "colab": {
      "provenance": [],
      "authorship_tag": "ABX9TyNG1Rm3qIGBAkMYk9hNFEKA",
      "include_colab_link": true
    },
    "kernelspec": {
      "name": "python3",
      "display_name": "Python 3"
    },
    "language_info": {
      "name": "python"
    }
  },
  "cells": [
    {
      "cell_type": "markdown",
      "metadata": {
        "id": "view-in-github",
        "colab_type": "text"
      },
      "source": [
        "<a href=\"https://colab.research.google.com/github/wwwlovecom/my_rep/blob/main/%D0%9B%D0%A01_%D0%9C%D0%B0%D1%82%D1%80%D0%B8%D1%86%D1%96_%D0%A7%D0%B0%D1%81%D1%82%D0%B8%D0%BD%D0%B0_1%2C_%D0%9E%D0%BB%D1%96%D0%B9%D0%BD%D0%B8%D0%BA.ipynb\" target=\"_parent\"><img src=\"https://colab.research.google.com/assets/colab-badge.svg\" alt=\"Open In Colab\"/></a>"
      ]
    },
    {
      "cell_type": "code",
      "execution_count": 2,
      "metadata": {
        "colab": {
          "base_uri": "https://localhost:8080/",
          "height": 36
        },
        "id": "ver7pRRGcU6d",
        "outputId": "70f33f30-9b00-47d9-9257-494a2d0d4d97"
      },
      "outputs": [
        {
          "output_type": "execute_result",
          "data": {
            "text/plain": [
              "'2.0.2'"
            ],
            "application/vnd.google.colaboratory.intrinsic+json": {
              "type": "string"
            }
          },
          "metadata": {},
          "execution_count": 2
        }
      ],
      "source": [
        "import numpy as np\n",
        "np.__version__"
      ]
    },
    {
      "cell_type": "markdown",
      "source": [
        "1. Створити матрицю 3*3, заповни її цілими випадковими числами від 1 до 5"
      ],
      "metadata": {
        "id": "nT2S6qERcsCY"
      }
    },
    {
      "cell_type": "code",
      "source": [
        "matrix = np.random.randint(1, 6, size =(3,3))\n",
        "\n",
        "matrix"
      ],
      "metadata": {
        "colab": {
          "base_uri": "https://localhost:8080/"
        },
        "id": "lFQf291XcqNb",
        "outputId": "58ecd4bb-f00b-4fbc-bd61-f0f592a07a02"
      },
      "execution_count": 6,
      "outputs": [
        {
          "output_type": "execute_result",
          "data": {
            "text/plain": [
              "array([[2, 4, 5],\n",
              "       [2, 5, 3],\n",
              "       [3, 5, 2]])"
            ]
          },
          "metadata": {},
          "execution_count": 6
        }
      ]
    },
    {
      "cell_type": "markdown",
      "source": [
        "2. Обчислити визначник матриці"
      ],
      "metadata": {
        "id": "ir34qqR4dUN7"
      }
    },
    {
      "cell_type": "code",
      "source": [
        "det = np.linalg.det(matrix)\n",
        "det"
      ],
      "metadata": {
        "colab": {
          "base_uri": "https://localhost:8080/"
        },
        "id": "fzClV_YDdX6j",
        "outputId": "ebd19dc3-777f-426f-bb09-1d99238241a4"
      },
      "execution_count": 7,
      "outputs": [
        {
          "output_type": "execute_result",
          "data": {
            "text/plain": [
              "np.float64(-15.000000000000007)"
            ]
          },
          "metadata": {},
          "execution_count": 7
        }
      ]
    },
    {
      "cell_type": "markdown",
      "source": [
        "3. Знайти добуток всіх елементів матриці"
      ],
      "metadata": {
        "id": "bMZHVY_Md1lH"
      }
    },
    {
      "cell_type": "code",
      "source": [
        "product = np.prod(matrix)\n",
        "product"
      ],
      "metadata": {
        "colab": {
          "base_uri": "https://localhost:8080/"
        },
        "id": "aXvEuz06d5vG",
        "outputId": "eaa403c6-ff7f-4dd7-c3b4-62874b897202"
      },
      "execution_count": 8,
      "outputs": [
        {
          "output_type": "execute_result",
          "data": {
            "text/plain": [
              "np.int64(36000)"
            ]
          },
          "metadata": {},
          "execution_count": 8
        }
      ]
    },
    {
      "cell_type": "code",
      "source": [
        "prod_1 = np.prod(matrix[0])\n",
        "prod_2 = np.prod(matrix[1])\n",
        "prod_3 = np.prod(matrix[2])\n",
        "prod_1*prod_2*prod_3"
      ],
      "metadata": {
        "colab": {
          "base_uri": "https://localhost:8080/"
        },
        "id": "MFKM5wDheGnJ",
        "outputId": "a63a7122-102d-4dfe-f29f-63554e1cecd4"
      },
      "execution_count": 9,
      "outputs": [
        {
          "output_type": "execute_result",
          "data": {
            "text/plain": [
              "np.int64(36000)"
            ]
          },
          "metadata": {},
          "execution_count": 9
        }
      ]
    },
    {
      "cell_type": "markdown",
      "source": [
        "4. Знайти суму всіх елементів матриці"
      ],
      "metadata": {
        "id": "EAeAA1QygSPI"
      }
    },
    {
      "cell_type": "code",
      "source": [
        "sum = np.sum(matrix)\n",
        "sum"
      ],
      "metadata": {
        "colab": {
          "base_uri": "https://localhost:8080/"
        },
        "id": "JXKbkiwagZ84",
        "outputId": "cbdc7e7e-10d2-4b65-ac68-ffee5a131bd0"
      },
      "execution_count": 10,
      "outputs": [
        {
          "output_type": "execute_result",
          "data": {
            "text/plain": [
              "np.int64(31)"
            ]
          },
          "metadata": {},
          "execution_count": 10
        }
      ]
    },
    {
      "cell_type": "markdown",
      "source": [
        "5. Обчислити найбільший, найменший елементи"
      ],
      "metadata": {
        "id": "oQWtZZnYgg9v"
      }
    },
    {
      "cell_type": "code",
      "source": [
        "max_element = np.max(matrix)\n",
        "print(\"Найбільший елемент матриці:\", max_element)\n",
        "\n",
        "min_element = np.min(matrix)\n",
        "print(\"Найменший елемент матриці:\", min_element)"
      ],
      "metadata": {
        "colab": {
          "base_uri": "https://localhost:8080/"
        },
        "id": "mCVPtX36glLo",
        "outputId": "9320c468-f5b3-4202-d641-f92d63814e2a"
      },
      "execution_count": 12,
      "outputs": [
        {
          "output_type": "stream",
          "name": "stdout",
          "text": [
            "Найбільший елемент матриці: 5\n",
            "Найменший елемент матриці: 2\n"
          ]
        }
      ]
    },
    {
      "cell_type": "markdown",
      "source": [
        "6. Знайти середнє значення елементів матриці"
      ],
      "metadata": {
        "id": "D3QNSiWNhACH"
      }
    },
    {
      "cell_type": "code",
      "source": [
        "mean = np.mean(matrix)\n",
        "print(\"Середнє значення елементів матриці:\", mean)"
      ],
      "metadata": {
        "colab": {
          "base_uri": "https://localhost:8080/"
        },
        "id": "7CeU8vWFhDoD",
        "outputId": "1ba8fe58-9d97-457a-e57e-e31a9ff99508"
      },
      "execution_count": 13,
      "outputs": [
        {
          "output_type": "stream",
          "name": "stdout",
          "text": [
            "Середнє значення елементів матриці: 3.4444444444444446\n"
          ]
        }
      ]
    },
    {
      "cell_type": "markdown",
      "source": [
        "7. Знайти матрицю, що складена з квадратних коренів"
      ],
      "metadata": {
        "id": "N0EAxHAthNj7"
      }
    },
    {
      "cell_type": "code",
      "source": [
        "sqrt_matrix = np.sqrt(matrix)\n",
        "\n",
        "print(\"Матриця квадратних коренів:\")\n",
        "print(sqrt_matrix)"
      ],
      "metadata": {
        "colab": {
          "base_uri": "https://localhost:8080/"
        },
        "id": "Imqotzb2hNQk",
        "outputId": "f3c466c6-4fc5-4e1d-a97f-ca06948d3e42"
      },
      "execution_count": 14,
      "outputs": [
        {
          "output_type": "stream",
          "name": "stdout",
          "text": [
            "Матриця квадратних коренів:\n",
            "[[1.41421356 2.         2.23606798]\n",
            " [1.41421356 2.23606798 1.73205081]\n",
            " [1.73205081 2.23606798 1.41421356]]\n"
          ]
        }
      ]
    },
    {
      "cell_type": "markdown",
      "source": [
        "8. Обчислити суму елементів кожного рядка. Відповідь записати як вектор-стовпчик"
      ],
      "metadata": {
        "id": "Fqeum--ZhkSy"
      }
    },
    {
      "cell_type": "code",
      "source": [
        "row_sums = np.sum(matrix, axis=1).reshape(-1, 1)\n",
        "\n",
        "print(\"Сума елементів кожного рядка:\")\n",
        "print(row_sums)\n",
        "#В результаті отримали вектор-стовпчик"
      ],
      "metadata": {
        "colab": {
          "base_uri": "https://localhost:8080/"
        },
        "id": "QV8VDhPYiWe0",
        "outputId": "21f6d6f0-337a-4f0a-8da6-f182a53fd574"
      },
      "execution_count": 17,
      "outputs": [
        {
          "output_type": "stream",
          "name": "stdout",
          "text": [
            "Сума елементів кожного рядка:\n",
            "[[11]\n",
            " [10]\n",
            " [10]]\n"
          ]
        }
      ]
    },
    {
      "cell_type": "markdown",
      "source": [
        "9. Створити вектор, що вмістить 25 елементів. Заповнити числами від 0 до 9. Відсортувати числа за спаданням"
      ],
      "metadata": {
        "id": "UAOpav_5ifsm"
      }
    },
    {
      "cell_type": "code",
      "source": [
        "vector = np.random.randint(0, 10, size = 25)\n",
        "\n",
        "print(\"Початковий вектор:\")\n",
        "print(vector)\n",
        "\n",
        "#Сортуємо числа за спаданням\n",
        "sorted_vector = np.sort(vector)[::-1]\n",
        "\n",
        "print(\"Вектор після сортування за спаданням:\")\n",
        "print(sorted_vector)"
      ],
      "metadata": {
        "colab": {
          "base_uri": "https://localhost:8080/"
        },
        "id": "ZZrGIeukifTK",
        "outputId": "833a107b-f5ad-466d-9f42-7137b46e53aa"
      },
      "execution_count": 16,
      "outputs": [
        {
          "output_type": "stream",
          "name": "stdout",
          "text": [
            "Початковий вектор:\n",
            "[6 4 2 3 5 6 5 7 5 9 8 9 0 7 0 8 4 3 1 0 0 7 2 1 7]\n",
            "Вектор після сортування за спаданням:\n",
            "[9 9 8 8 7 7 7 7 6 6 5 5 5 4 4 3 3 2 2 1 1 0 0 0 0]\n"
          ]
        }
      ]
    },
    {
      "cell_type": "markdown",
      "source": [
        "10. Знайти моду, медіану, середнє, максимальне, мінімальне значення"
      ],
      "metadata": {
        "id": "DIuY5hIgjOOZ"
      }
    },
    {
      "cell_type": "code",
      "source": [
        "from scipy import stats\n",
        "\n",
        "#Знаходимо моду\n",
        "mode = stats.mode(vector)\n",
        "\n",
        "#Знаходимо медіану\n",
        "median = np.median(vector)\n",
        "\n",
        "#Знаходимо середнє\n",
        "mean = np.mean(vector)\n",
        "\n",
        "#Знаходимо максимальне значення\n",
        "max_value = np.max(vector)\n",
        "\n",
        "#Знаходимо мінімальне значення\n",
        "min_value = np.min(vector)\n",
        "\n",
        "print(\"Мода:\", mode)\n",
        "print(\"Медіана:\", median)\n",
        "print(\"Середнє:\", mean)\n",
        "print(\"Максимальне значення:\", max_value)\n",
        "print(\"Мінімальне значення:\", min_value)"
      ],
      "metadata": {
        "colab": {
          "base_uri": "https://localhost:8080/"
        },
        "id": "_XuC_YAwixeR",
        "outputId": "ff6763f4-f2a4-4a55-bf95-a0c904cd1338"
      },
      "execution_count": 18,
      "outputs": [
        {
          "output_type": "stream",
          "name": "stdout",
          "text": [
            "Мода: ModeResult(mode=np.int64(0), count=np.int64(4))\n",
            "Медіана: 5.0\n",
            "Середнє: 4.36\n",
            "Максимальне значення: 9\n",
            "Мінімальне значення: 0\n"
          ]
        }
      ]
    },
    {
      "cell_type": "markdown",
      "source": [
        "11. Створити дві матриці 4*4, заповлені числами від 1 до 10. Обчислити суму, різницю, поелементний добуток, частку"
      ],
      "metadata": {
        "id": "MssUnEtZlNGm"
      }
    },
    {
      "cell_type": "code",
      "source": [
        "#Створюємо дві матриці 4х4 із випадкових цілих чисел від 1 до 10\n",
        "matrix1 = np.random.randint(1, 11, size=(4, 4))\n",
        "matrix2 = np.random.randint(1, 11, size=(4, 4))\n",
        "\n",
        "print(\"Матриця 1:\")\n",
        "print(matrix1)\n",
        "\n",
        "print(\"\\nМатриця 2:\")\n",
        "print(matrix2)"
      ],
      "metadata": {
        "colab": {
          "base_uri": "https://localhost:8080/"
        },
        "id": "Xcg6Pyujl-gG",
        "outputId": "3095f56a-e555-4651-ea51-14dd19d32f80"
      },
      "execution_count": 19,
      "outputs": [
        {
          "output_type": "stream",
          "name": "stdout",
          "text": [
            "Матриця 1:\n",
            "[[ 4  2  9  7]\n",
            " [ 1  8 10  7]\n",
            " [10  3  5  9]\n",
            " [ 8  7  1  3]]\n",
            "\n",
            "Матриця 2:\n",
            "[[ 6 10  4  4]\n",
            " [ 8  9  2  5]\n",
            " [ 7  3  3 10]\n",
            " [ 3  6  1  4]]\n"
          ]
        }
      ]
    },
    {
      "cell_type": "code",
      "source": [
        "#Обчислуємо суму матриць\n",
        "matrix_sum = matrix1 + matrix2\n",
        "\n",
        "#Обчислюємо різницю матриць\n",
        "matrix_diff = matrix1 - matrix2\n",
        "\n",
        "#Обчислюємо поелементний добуток матриць\n",
        "matrix_product = matrix1 * matrix2\n",
        "\n",
        "#Обчислюємо поелементну частку матриць\n",
        "#Для запобігання ділення на нуль, використовуємо np.divide з параметром where\n",
        "matrix_division = np.divide(matrix1, matrix2, where=(matrix2!=0))\n",
        "\n",
        "print(\"Сума матриць:\")\n",
        "print(matrix_sum)\n",
        "\n",
        "print(\"\\nРізниця матриць:\")\n",
        "print(matrix_diff)\n",
        "\n",
        "print(\"\\nПоелементний добуток матриць:\")\n",
        "print(matrix_product)"
      ],
      "metadata": {
        "colab": {
          "base_uri": "https://localhost:8080/"
        },
        "id": "UhThL4-YoAl1",
        "outputId": "d4e3a718-8c0a-46bc-e4e9-ce675be2fc24"
      },
      "execution_count": 22,
      "outputs": [
        {
          "output_type": "stream",
          "name": "stdout",
          "text": [
            "Сума матриць:\n",
            "[[10 12 13 11]\n",
            " [ 9 17 12 12]\n",
            " [17  6  8 19]\n",
            " [11 13  2  7]]\n",
            "\n",
            "Різниця матриць:\n",
            "[[-2 -8  5  3]\n",
            " [-7 -1  8  2]\n",
            " [ 3  0  2 -1]\n",
            " [ 5  1  0 -1]]\n",
            "\n",
            "Поелементний добуток матриць:\n",
            "[[24 20 36 28]\n",
            " [ 8 72 20 35]\n",
            " [70  9 15 90]\n",
            " [24 42  1 12]]\n"
          ]
        }
      ]
    },
    {
      "cell_type": "markdown",
      "source": [
        "12. Задати вектор-рядок, що містить дійсні числа 1.0-8.0. Зробити матрицю 3*3. Помножити на вектор-рядок, що містить числа 0.0-2.0"
      ],
      "metadata": {
        "id": "uXTvfGT1pQqI"
      }
    },
    {
      "cell_type": "code",
      "source": [
        "x = np.arange(9.0)\n",
        "x"
      ],
      "metadata": {
        "colab": {
          "base_uri": "https://localhost:8080/"
        },
        "id": "Xj4dx8NNpQXS",
        "outputId": "5b58b213-93e8-49c5-ac40-7388a6be5bb2"
      },
      "execution_count": 23,
      "outputs": [
        {
          "output_type": "execute_result",
          "data": {
            "text/plain": [
              "array([0., 1., 2., 3., 4., 5., 6., 7., 8.])"
            ]
          },
          "metadata": {},
          "execution_count": 23
        }
      ]
    },
    {
      "cell_type": "code",
      "source": [
        "x1 = x.reshape((3, 3))\n",
        "x1"
      ],
      "metadata": {
        "colab": {
          "base_uri": "https://localhost:8080/"
        },
        "id": "FUShv4TepmJo",
        "outputId": "a06363b0-b5ae-4b47-9ccb-d988c2ecffbf"
      },
      "execution_count": 24,
      "outputs": [
        {
          "output_type": "execute_result",
          "data": {
            "text/plain": [
              "array([[0., 1., 2.],\n",
              "       [3., 4., 5.],\n",
              "       [6., 7., 8.]])"
            ]
          },
          "metadata": {},
          "execution_count": 24
        }
      ]
    },
    {
      "cell_type": "code",
      "source": [
        "x2 = np.arange(3.0)\n",
        "x2"
      ],
      "metadata": {
        "colab": {
          "base_uri": "https://localhost:8080/"
        },
        "id": "anv1Kr1mpmek",
        "outputId": "dd8039c1-9cd5-449a-9689-30042bc35dbc"
      },
      "execution_count": 26,
      "outputs": [
        {
          "output_type": "execute_result",
          "data": {
            "text/plain": [
              "array([0., 1., 2.])"
            ]
          },
          "metadata": {},
          "execution_count": 26
        }
      ]
    },
    {
      "cell_type": "code",
      "source": [
        "np.multiply(x1, x2)"
      ],
      "metadata": {
        "colab": {
          "base_uri": "https://localhost:8080/"
        },
        "id": "F8AYOsDnqH3f",
        "outputId": "6a210a58-e482-45c1-e3c0-650e76fcf5e6"
      },
      "execution_count": 27,
      "outputs": [
        {
          "output_type": "execute_result",
          "data": {
            "text/plain": [
              "array([[ 0.,  1.,  4.],\n",
              "       [ 0.,  4., 10.],\n",
              "       [ 0.,  7., 16.]])"
            ]
          },
          "metadata": {},
          "execution_count": 27
        }
      ]
    }
  ]
}